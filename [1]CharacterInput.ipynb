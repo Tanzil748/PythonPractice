{
  "nbformat": 4,
  "nbformat_minor": 0,
  "metadata": {
    "colab": {
      "name": "[1]CharacterInput.ipynb",
      "provenance": [],
      "authorship_tag": "ABX9TyMzgHedejJFyBAeKfUybDay",
      "include_colab_link": true
    },
    "kernelspec": {
      "name": "python3",
      "display_name": "Python 3"
    }
  },
  "cells": [
    {
      "cell_type": "markdown",
      "metadata": {
        "id": "view-in-github",
        "colab_type": "text"
      },
      "source": [
        "<a href=\"https://colab.research.google.com/github/Tanzil748/PythonPractice/blob/main/%5B1%5DCharacterInput.ipynb\" target=\"_parent\"><img src=\"https://colab.research.google.com/assets/colab-badge.svg\" alt=\"Open In Colab\"/></a>"
      ]
    },
    {
      "cell_type": "markdown",
      "metadata": {
        "id": "B-GLhXSZAYW0"
      },
      "source": [
        "# Create a program that asks the user to enter their name and their age. Print out a message addressed to them that tells them the year that they will turn 100 years old."
      ]
    },
    {
      "cell_type": "code",
      "metadata": {
        "colab": {
          "base_uri": "https://localhost:8080/"
        },
        "id": "7UkUIHn0ApdD",
        "outputId": "ed29b2d6-c86f-427b-aff9-f2ed55548b94"
      },
      "source": [
        "name = input('Print out your full name: ')\n",
        "age = int(input('Print out your age: '))\n",
        "years_left = 0\n",
        "year_century = 0\n",
        "\n",
        "if age <= 100:\n",
        "    years_left = 100 - age\n",
        "    year_century = 2021 + years_left\n",
        "    print(name + ', you will turn 100 in the year ' + str(year_century))"
      ],
      "execution_count": 4,
      "outputs": [
        {
          "output_type": "stream",
          "text": [
            "Print out your full name: Tanzil Hassan\n",
            "Print out your age: 20\n",
            "Tanzil Hassan, you will turn 100 in the year 2101\n"
          ],
          "name": "stdout"
        }
      ]
    }
  ]
}