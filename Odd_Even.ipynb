{
  "nbformat": 4,
  "nbformat_minor": 0,
  "metadata": {
    "colab": {
      "name": "Odd/Even.ipynb",
      "provenance": [],
      "authorship_tag": "ABX9TyOjDAYE+tp7tiGdAN9gbZE8",
      "include_colab_link": true
    },
    "kernelspec": {
      "name": "python3",
      "display_name": "Python 3"
    }
  },
  "cells": [
    {
      "cell_type": "markdown",
      "metadata": {
        "id": "view-in-github",
        "colab_type": "text"
      },
      "source": [
        "<a href=\"https://colab.research.google.com/github/Tanzil748/PythonPractice/blob/main/Odd_Even.ipynb\" target=\"_parent\"><img src=\"https://colab.research.google.com/assets/colab-badge.svg\" alt=\"Open In Colab\"/></a>"
      ]
    },
    {
      "cell_type": "markdown",
      "metadata": {
        "id": "gYTnhIv4CC6X"
      },
      "source": [
        "#Ask the user for a number. Depending on whether the number is even or odd, print out an appropriate message to the user. Hint: how does an even / odd number react differently when divided by 2?"
      ]
    },
    {
      "cell_type": "code",
      "metadata": {
        "colab": {
          "base_uri": "https://localhost:8080/"
        },
        "id": "jnYyHnNzCHmW",
        "outputId": "a0723b0c-c1f7-41b2-98ff-c5ee65b63019"
      },
      "source": [
        "number = int(input('Enter a number: '))\n",
        "\n",
        "if number % 2 == 0:\n",
        "  print('Your chosen number ' + str(number) + ', is an even number!')\n",
        "else:\n",
        "  print('Your chosen number ' + str(number) + ', is an odd number!')"
      ],
      "execution_count": 9,
      "outputs": [
        {
          "output_type": "stream",
          "text": [
            "Enter a number: 21\n",
            "Your chosen number 21, is an odd number!\n"
          ],
          "name": "stdout"
        }
      ]
    }
  ]
}