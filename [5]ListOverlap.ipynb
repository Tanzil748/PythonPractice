{
  "nbformat": 4,
  "nbformat_minor": 0,
  "metadata": {
    "colab": {
      "name": "[5]ListOverlap.ipynb",
      "provenance": [],
      "authorship_tag": "ABX9TyNx5vrlvw22c9I+GBOSiiFf",
      "include_colab_link": true
    },
    "kernelspec": {
      "name": "python3",
      "display_name": "Python 3"
    }
  },
  "cells": [
    {
      "cell_type": "markdown",
      "metadata": {
        "id": "view-in-github",
        "colab_type": "text"
      },
      "source": [
        "<a href=\"https://colab.research.google.com/github/Tanzil748/PythonPractice/blob/main/%5B5%5DListOverlap.ipynb\" target=\"_parent\"><img src=\"https://colab.research.google.com/assets/colab-badge.svg\" alt=\"Open In Colab\"/></a>"
      ]
    },
    {
      "cell_type": "markdown",
      "metadata": {
        "id": "-5cpe1_dEHMu"
      },
      "source": [
        "Take two lists, say for example these two:\n",
        "\n",
        "  a = [1, 1, 2, 3, 5, 8, 13, 21, 34, 55, 89]\n",
        "  b = [1, 2, 3, 4, 5, 6, 7, 8, 9, 10, 11, 12, 13]\n",
        "and write a program that returns a list that contains only the elements that are common between the lists (without duplicates). Make sure your program works on two lists of different sizes."
      ]
    },
    {
      "cell_type": "code",
      "metadata": {
        "colab": {
          "base_uri": "https://localhost:8080/"
        },
        "id": "FKDfP8PMD1_D",
        "outputId": "a210aad7-539d-46f5-a9c6-11253c8e898d"
      },
      "source": [
        "  a = [1, 1, 2, 3, 5, 8, 13, 21, 34, 55, 89]\n",
        "  b = [1, 2, 3, 4, 5, 6, 7, 8, 9, 10, 11, 12, 13]        #for convinence sake, start off with bigger list\n",
        "\n",
        "  combined_list = []\n",
        "\n",
        "  if len(a) < len(b):\n",
        "    for i in a:\n",
        "      if i not in b:\n",
        "        combined_list.append(i)\n",
        "    else:\n",
        "      for i in b:\n",
        "        if i not in a:\n",
        "          combined_list.append(i)\n",
        "  print(sorted(combined_list)).   #sorted function solely for cleanliness\n"
      ],
      "execution_count": 12,
      "outputs": [
        {
          "output_type": "stream",
          "text": [
            "[4, 6, 7, 9, 10, 11, 12, 21, 34, 55, 89]\n"
          ],
          "name": "stdout"
        }
      ]
    }
  ]
}