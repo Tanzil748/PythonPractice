{
  "nbformat": 4,
  "nbformat_minor": 0,
  "metadata": {
    "colab": {
      "name": "[6]StringList.ipynb",
      "provenance": [],
      "authorship_tag": "ABX9TyMIrXbApl7wExt2ZFkqf+Aa",
      "include_colab_link": true
    },
    "kernelspec": {
      "name": "python3",
      "display_name": "Python 3"
    }
  },
  "cells": [
    {
      "cell_type": "markdown",
      "metadata": {
        "id": "view-in-github",
        "colab_type": "text"
      },
      "source": [
        "<a href=\"https://colab.research.google.com/github/Tanzil748/PythonPractice/blob/main/%5B6%5DStringList.ipynb\" target=\"_parent\"><img src=\"https://colab.research.google.com/assets/colab-badge.svg\" alt=\"Open In Colab\"/></a>"
      ]
    },
    {
      "cell_type": "markdown",
      "metadata": {
        "id": "xK_jmEsDMSN2"
      },
      "source": [
        "Ask the user for a string and print out whether this string is a palindrome or not. (A palindrome is a string that reads the same forwards and backwards.)"
      ]
    },
    {
      "cell_type": "code",
      "metadata": {
        "colab": {
          "base_uri": "https://localhost:8080/"
        },
        "id": "MCioxbVhLiQI",
        "outputId": "1b7ce06f-3527-4081-ac98-0b4aefadaf7d"
      },
      "source": [
        "user_answer = (input('Type any word and find out if it is a palindrome: '))\n",
        "rev = user_answer[::-1]\n",
        "if user_answer.casefold() != rev.casefold():    #casefold prevents the program from having issues due to case-sensitivity\n",
        "  print(user_answer + ' is not a palindrome!')\n",
        "else:\n",
        "  print(user_answer + ' is a palindrome')"
      ],
      "execution_count": 33,
      "outputs": [
        {
          "output_type": "stream",
          "text": [
            "Type any word and find out if it is a palindrome: Civic\n",
            "Civic is a palindrome\n"
          ],
          "name": "stdout"
        }
      ]
    }
  ]
}