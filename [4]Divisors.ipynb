{
  "nbformat": 4,
  "nbformat_minor": 0,
  "metadata": {
    "colab": {
      "name": "[4]Divisors.ipynb",
      "provenance": [],
      "authorship_tag": "ABX9TyPRXFs71lXwh+xro7obDSCu",
      "include_colab_link": true
    },
    "kernelspec": {
      "name": "python3",
      "display_name": "Python 3"
    }
  },
  "cells": [
    {
      "cell_type": "markdown",
      "metadata": {
        "id": "view-in-github",
        "colab_type": "text"
      },
      "source": [
        "<a href=\"https://colab.research.google.com/github/Tanzil748/PythonPractice/blob/main/%5B4%5DDivisors.ipynb\" target=\"_parent\"><img src=\"https://colab.research.google.com/assets/colab-badge.svg\" alt=\"Open In Colab\"/></a>"
      ]
    },
    {
      "cell_type": "markdown",
      "metadata": {
        "id": "hxBW-z1dISqR"
      },
      "source": [
        "Create a program that asks the user for a number and then prints out a list of all the divisors of that number. (If you don’t know what a divisor is, it is a number that divides evenly into another number. For example, 13 is a divisor of 26 because 26 / 13 has no remainder.)"
      ]
    },
    {
      "cell_type": "code",
      "metadata": {
        "colab": {
          "base_uri": "https://localhost:8080/"
        },
        "id": "7z5aulG5IUej",
        "outputId": "f11ecd65-e338-48e9-f52e-337e766a2f44"
      },
      "source": [
        "num = int(input('Type in a number: '))\n",
        "lst = range(1, num + 1)\n",
        "divisor = []\n",
        "\n",
        "for x in lst:\n",
        "  if num % x == 0:\n",
        "    divisor.append(x)\n",
        "print(divisor)"
      ],
      "execution_count": 7,
      "outputs": [
        {
          "output_type": "stream",
          "text": [
            "Type in a number: 100\n",
            "[1, 2, 4, 5, 10, 20, 25, 50, 100]\n"
          ],
          "name": "stdout"
        }
      ]
    }
  ]
}