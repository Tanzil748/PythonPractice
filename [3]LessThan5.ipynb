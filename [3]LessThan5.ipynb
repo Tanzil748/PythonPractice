{
  "nbformat": 4,
  "nbformat_minor": 0,
  "metadata": {
    "colab": {
      "name": "[3]LessThan5.ipynb",
      "provenance": [],
      "authorship_tag": "ABX9TyN52YmNQqeBL4QRMmGdShjk",
      "include_colab_link": true
    },
    "kernelspec": {
      "name": "python3",
      "display_name": "Python 3"
    }
  },
  "cells": [
    {
      "cell_type": "markdown",
      "metadata": {
        "id": "view-in-github",
        "colab_type": "text"
      },
      "source": [
        "<a href=\"https://colab.research.google.com/github/Tanzil748/PythonPractice/blob/main/%5B3%5DLessThan5.ipynb\" target=\"_parent\"><img src=\"https://colab.research.google.com/assets/colab-badge.svg\" alt=\"Open In Colab\"/></a>"
      ]
    },
    {
      "cell_type": "markdown",
      "metadata": {
        "id": "iu0hjNC8GwVr"
      },
      "source": [
        "Take a list, say for example this one:\n",
        "\n",
        "  a = [1, 1, 2, 3, 5, 8, 13, 21, 34, 55, 89]\n",
        "and write a program that prints out all the elements of the list that are less than 5."
      ]
    },
    {
      "cell_type": "code",
      "metadata": {
        "colab": {
          "base_uri": "https://localhost:8080/"
        },
        "id": "zkjtezapF_tn",
        "outputId": "69343c9d-8a4a-4837-db05-471c0657907a"
      },
      "source": [
        "num_list = [1, 1, 2, 3, 5, 8, 13, 21, 34, 55, 89]\n",
        "for num in num_list:\n",
        "  if num  < 5:\n",
        "    print(num)\n",
        "print('These are all numbers that were less than 5 in given list!')"
      ],
      "execution_count": 4,
      "outputs": [
        {
          "output_type": "stream",
          "text": [
            "1\n",
            "1\n",
            "2\n",
            "3\n",
            "These are all numbers that were less than 5 in given list!\n"
          ],
          "name": "stdout"
        }
      ]
    }
  ]
}